{
 "cells": [
  {
   "cell_type": "code",
   "execution_count": 1,
   "metadata": {
    "collapsed": false
   },
   "outputs": [],
   "source": [
    "%matplotlib inline\n",
    "import matplotlib.pyplot as plt\n",
    "import serial\n",
    "import pandas as pd\n",
    "from time import sleep\n",
    "import numpy as np\n",
    "from IPython import display\n",
    "import pandas as pd\n",
    "from datetime import datetime\n",
    "import os"
   ]
  },
  {
   "cell_type": "code",
   "execution_count": 2,
   "metadata": {
    "collapsed": false
   },
   "outputs": [],
   "source": [
    "class verdi_command:\n",
    "    def __init__(self, nickname = 'Set Power (W)', command = b'?SP\\r\\n', return_bytes = 8):\n",
    "        self.nickname = nickname\n",
    "        if command[-2:] != b'\\r\\n':\n",
    "            self.command = command + b'\\r\\n'\n",
    "        else:\n",
    "            self.command = command\n",
    "        self.return_bytes = return_bytes\n",
    "    def send_command(self, ser):\n",
    "        \"\"\" writes verdi command to serial port ser, returns response from laser\"\"\"\n",
    "        ser.write(self.command)\n",
    "        #while ser.inWaiting() < self.return_bytes:\n",
    "        #    pass\n",
    "        #response = ser.read(self.return_bytes)\n",
    "        response = ser.readline()\n",
    "        if response[-2:] != b'\\r\\n':\n",
    "            print(ser.inWaiting())\n",
    "            response += ser.read(ser.inWaiting())\n",
    "            return response\n",
    "        else:\n",
    "            return response\n",
    "\n",
    "commands = [\n",
    "    verdi_command('Set Power (W)', b'?SP', 8),\n",
    "    verdi_command('Output Power (W)', b'?P', 7),\n",
    "    verdi_command('Current (A)', b'?C', 6),\n",
    "    verdi_command('Current Delta (A)', b'?CD', 5),\n",
    "    verdi_command('Baseplate Temp (C)', b'?BT', 7),\n",
    "    verdi_command('Diode 1 Current (A)', b'?d1c', 6),\n",
    "    verdi_command('Diode 1 Photocell Voltage (V)', b'?d1pc', 6),\n",
    "    verdi_command('Diode 1 Set Temp (C)', b'?d1st', 7),\n",
    "    verdi_command('Diode 1 Temp (C)', b'?d1t', 7),\n",
    "    verdi_command('Diode 1 Heatsink Temp (C)', b'?d1hst', 7),\n",
    "    verdi_command('Diode 1 Hours (hr)', b'?d1h', 10),\n",
    "    verdi_command('Diode 1 RCF', b'?d1rcf', 6),\n",
    "    verdi_command('Diode 1 Max Current (A)', b'?d1rcm', 7),\n",
    "    verdi_command('Diode 2 Current (A)', b'?d2c', 6),\n",
    "    verdi_command('Diode 2 Photocell Voltage (V)', b'?d2pc', 6),\n",
    "    verdi_command('Diode 2 Set Temp (C)', b'?d2st', 7),\n",
    "    verdi_command('Diode 2 Temp (C)', b'?d2t', 7),\n",
    "    verdi_command('Diode 2 Heatsink Temp (C)', b'?d2hst', 7),\n",
    "    verdi_command('Diode 2 Hours (hr)', b'?d2h', 10),\n",
    "    verdi_command('Diode 2 RCF', b'?d2rcf', 6),\n",
    "    verdi_command('Diode 2 Max Current (A)', b'?d2rcm', 7),\n",
    "    verdi_command('Etalon Temp (C)', b'?et', 7),\n",
    "    verdi_command('Vanadate Set Temp (C)', b'?vst', 7),\n",
    "    verdi_command('Vanadate Temp (C)', b'?vt', 7),\n",
    "    verdi_command('Power Supply Hours (hr)', b'?psh', 10),\n",
    "    verdi_command('Laser Head Hours (hr)', b'?HH', 10),\n",
    "    verdi_command('Vanadate Temp Servo Drive', b'?VD', 10),\n",
    "    verdi_command('Diode 1 Temp Servo Drive', b'?d1td', 10),\n",
    "    verdi_command('Diode 2 Temp Servo Drive', b'?d2td', 10),\n",
    "    verdi_command('Etalon Temp Servo Drive' , b'?ed', 10),\n",
    "]\n",
    "\n",
    "#### Define the serial interface ####\n",
    "verdi_port = 'COM4' #verdi com port\n",
    "verdi_baud = 19200  #verdi baud rate, default is 19200\n",
    "verdi_stop = serial.STOPBITS_ONE\n",
    "verdi_parity = serial.PARITY_NONE \n",
    "verdi_flow = False\n",
    "#### Open Serial Connection ####\n",
    "try:\n",
    "    ser\n",
    "except:\n",
    "    ser = serial.Serial(port = verdi_port,\n",
    "                        baudrate = verdi_baud, \n",
    "                        stopbits = verdi_stop,\n",
    "                        parity = verdi_parity,\n",
    "                        rtscts = verdi_flow)"
   ]
  },
  {
   "cell_type": "code",
   "execution_count": null,
   "metadata": {
    "collapsed": false
   },
   "outputs": [],
   "source": [
    "bytearray(5)"
   ]
  },
  {
   "cell_type": "code",
   "execution_count": null,
   "metadata": {
    "collapsed": false
   },
   "outputs": [],
   "source": [
    "ser.isOpen()\n",
    "from time import sleep\n",
    "print(bytearray(5))\n",
    "while True:\n",
    "    ser.write(bytearray(5)+b'\\r\\n')\n",
    "    #ser.write(b'Hello world')\n",
    "    sleep(.5)\n",
    "    #print(str(ser.readline()))"
   ]
  },
  {
   "cell_type": "code",
   "execution_count": null,
   "metadata": {
    "collapsed": false,
    "scrolled": true
   },
   "outputs": [],
   "source": [
    "def write_verdi_header(datafile, commands):\n",
    "    f = open(datafile, 'w')\n",
    "    #f.write('Time\\t')\n",
    "    for c in commands:\n",
    "        if c != commands[-1]:\n",
    "            f.write(c.nickname+'\\t')\n",
    "        else:\n",
    "            f.write(c.nickname+'\\n')\n",
    "    f.close()\n",
    "\n",
    "def get_verdi_data(datafile, ser, commands, mode='a'):\n",
    "    \"\"\"Records the responses for each command in 'commands' from the verdi on Serial port 'ser' into the file 'datafile'\"\"\"\n",
    "    s = ''\n",
    "    \n",
    "    # flush the input buffer if there are bits waiting\n",
    "    if ser.inWaiting() > 0:\n",
    "        ser.read(ser.inWaiting())\n",
    "    \n",
    "    # add the date and time for the current data point\n",
    "    s += str(datetime.now())+'\\t'\n",
    "    \n",
    "    # loop over the commands and get their responses\n",
    "    for c in commands[:-1]:\n",
    "        r = float(c.send_command(ser))\n",
    "        s += '%.8e\\t'%r\n",
    "    r = float(commands[-1].send_command(ser))\n",
    "    s += '%.8e\\n'%r\n",
    "    \n",
    "    # write to the datafile\n",
    "    f = open(datafile, mode)\n",
    "    f.write(s)\n",
    "    f.close()\n",
    "\n",
    "datafile = 'dat.txt'\n",
    "write_verdi_header(datafile, commands)\n",
    "maxiter = 1000\n",
    "d = datetime.now()\n",
    "for i in range(maxiter):\n",
    "    if i%10 == 0:\n",
    "        print(datetime.now()-d, i)\n",
    "    get_verdi_data(datafile, ser, commands, mode='a')\n",
    "            "
   ]
  },
  {
   "cell_type": "code",
   "execution_count": null,
   "metadata": {
    "collapsed": false
   },
   "outputs": [],
   "source": [
    "f = open(datafile,'r')\n",
    "f.read()\n",
    "f.close()\n",
    "df = pd.read_csv(datafile, sep='\\t', index_col=0, parse_dates=True)\n",
    "df.plot(y=['Diode 1 Temp (C)','Diode 2 Temp (C)','Baseplate Temp (C)'])\n",
    "ser.close()\n",
    "#df.plot(y='Etalon Temp (C)')"
   ]
  },
  {
   "cell_type": "code",
   "execution_count": null,
   "metadata": {
    "collapsed": false
   },
   "outputs": [],
   "source": [
    "pd.read_csv(datafile, sep='\\t', index_col=0)"
   ]
  },
  {
   "cell_type": "code",
   "execution_count": null,
   "metadata": {
    "collapsed": false
   },
   "outputs": [],
   "source": [
    "maxiter = 1800\n",
    "\n",
    "data = np.zeros((maxiter, len(commands)+1))\n",
    "header = ['Time']\n",
    "for vc in commands:\n",
    "    header.append(vc.nickname)\n",
    "df = pd.DataFrame(data, columns = header)        \n",
    "df.loc[0,'Time']"
   ]
  },
  {
   "cell_type": "code",
   "execution_count": null,
   "metadata": {
    "collapsed": false,
    "scrolled": true
   },
   "outputs": [],
   "source": [
    "for i in range(maxiter):\n",
    "    df.iloc[i,0] = datetime.now()\n",
    "    j = 1\n",
    "    for vc in commands:\n",
    "        df.iloc[i,j] = float(vc.send_command(ser))\n",
    "        j += 1"
   ]
  },
  {
   "cell_type": "code",
   "execution_count": null,
   "metadata": {
    "collapsed": false
   },
   "outputs": [],
   "source": [
    "df.to_csv('Z:\\\\file.csv')"
   ]
  },
  {
   "cell_type": "code",
   "execution_count": null,
   "metadata": {
    "collapsed": false
   },
   "outputs": [],
   "source": [
    "plt.figure()\n",
    "df.plot(x='Time',y=['Diode 1 Temp (C)', 'Diode 2 Temp (C)', 'Baseplate Temp (C)','Vanadate Temp (C)'])\n",
    "plt.legend(loc=2, bbox_to_anchor=(1.05,1))\n",
    "plt.ylabel('Temperature (C)')"
   ]
  },
  {
   "cell_type": "code",
   "execution_count": null,
   "metadata": {
    "collapsed": false
   },
   "outputs": [],
   "source": [
    "vc = verdi_command('Power Supply Hours (hr)', b'?psh', 10)\n",
    "float(vc.send_command(ser))"
   ]
  },
  {
   "cell_type": "code",
   "execution_count": null,
   "metadata": {
    "collapsed": false
   },
   "outputs": [],
   "source": [
    "%%timeit\n",
    "ser.write(b'?P\\r\\n')\n",
    "waiting = ser.inWaiting()\n",
    "while ser.inWaiting() != 7:\n",
    "    pass\n",
    "message = ser.read(ser.inWaiting())\n",
    "num = float(message)"
   ]
  },
  {
   "cell_type": "code",
   "execution_count": null,
   "metadata": {
    "collapsed": false
   },
   "outputs": [],
   "source": [
    "#### Record Data ####\n",
    "for i in range(10):\n",
    "    ser.write(b'?P\\r\\n')\n",
    "    waiting = ser.inWaiting()\n",
    "    while ser.inWaiting() != 7:\n",
    "        pass\n",
    "    message = ser.read(ser.inWaiting())\n",
    "    num = float(message)\n",
    "    print(message,num)\n",
    "\n",
    "ser.close()"
   ]
  },
  {
   "cell_type": "code",
   "execution_count": null,
   "metadata": {
    "collapsed": true
   },
   "outputs": [],
   "source": [
    "ser.close()"
   ]
  },
  {
   "cell_type": "code",
   "execution_count": null,
   "metadata": {
    "collapsed": false
   },
   "outputs": [],
   "source": [
    "ax = plt.subplot(111)\n",
    "\n",
    "x = np.zeros(10)\n",
    "y = np.zeros(10)\n",
    "for i in range(len(x)):\n",
    "    x[i] = i\n",
    "    y[i] = i\n",
    "    display.clear_output(wait=True)\n",
    "    display.display(plt.gcf())\n",
    "    ax.cla()\n",
    "    ax.set_ylim(0,10)\n",
    "    ax.set_xlim(0,10)\n",
    "    ax.plot(x,y)\n",
    "    "
   ]
  },
  {
   "cell_type": "code",
   "execution_count": null,
   "metadata": {
    "collapsed": true
   },
   "outputs": [],
   "source": []
  }
 ],
 "metadata": {
  "kernelspec": {
   "display_name": "Python 3",
   "language": "python",
   "name": "python3"
  },
  "language_info": {
   "codemirror_mode": {
    "name": "ipython",
    "version": 3
   },
   "file_extension": ".py",
   "mimetype": "text/x-python",
   "name": "python",
   "nbconvert_exporter": "python",
   "pygments_lexer": "ipython3",
   "version": "3.4.3"
  }
 },
 "nbformat": 4,
 "nbformat_minor": 0
}
